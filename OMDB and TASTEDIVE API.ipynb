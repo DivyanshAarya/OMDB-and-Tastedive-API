{
 "cells": [
  {
   "cell_type": "markdown",
   "id": "be78b7e2",
   "metadata": {},
   "source": [
    "# OMDB and Tastedive API integration"
   ]
  },
  {
   "cell_type": "code",
   "execution_count": 1,
   "id": "c599abdb",
   "metadata": {},
   "outputs": [],
   "source": [
    "import requests\n",
    "\n",
    "def get_movies_from_tastedive(word):\n",
    "    baseurl = \"https://tastedive.com/api/similar\"\n",
    "    params_diction = {}\n",
    "    params_diction[\"q\"] = word\n",
    "    params_diction[\"type\"] = \"movies\"\n",
    "    params_diction[\"limit\"] = \"5\"\n",
    "    resp = requests.get(baseurl, params=params_diction)\n",
    "    word_ds = resp.json()\n",
    "    return resp.json()\n",
    "\n",
    "def extract_movie_titles(word_ds):\n",
    "    word_ds = get_movies_from_tastedive(word_ds)\n",
    "    for d in word_ds:\n",
    "        b = []\n",
    "        for e in word_ds[d]:\n",
    "            for a in word_ds[d][e]:\n",
    "                if a['Type'] == 'movie':\n",
    "                    b = b + [a['Name']]\n",
    "    return(b)            \n",
    "\n",
    "def get_related_titles(movies):\n",
    "    related_titles = []\n",
    "    for movie in movies:\n",
    "        m = extract_movie_titles(movie)\n",
    "        for mov in m:\n",
    "            if mov not in related_titles:\n",
    "                related_titles.append(mov)\n",
    "    return related_titles \n",
    "\n",
    "\n",
    "\n",
    "\n",
    "#Your next task will be to fetch data from OMDB. The documentation for the API is at https://www.omdbapi.com/\n",
    "#Define a function called get_movie_data. \n",
    "#It takes in one parameter which is a string that should represent the title of a movie you want to search. \n",
    "#The function should return a dictionary with information about that movie.\n",
    "#Again, use requests.get(). \n",
    "#For the queries on movies that are already in the cache, you won’t need an api key. \n",
    "#You will need to provide the following keys: t and r. As with the TasteDive cache, \n",
    "#be sure to only include those two parameters in order to extract existing data from the cache.\n",
    "\n",
    "def get_movie_data(word):\n",
    "    \n",
    "    word_ds = {}\n",
    "    baseurl = \"http://www.omdbapi.com/?i=tt3896198&apikey=c39c6efb\"\n",
    "    params_diction = {}\n",
    "    params_diction[\"t\"] = word\n",
    "    params_diction['r'] = 'json'\n",
    "    resp = requests.get(baseurl, params = params_diction)\n",
    "    resp = resp.json()\n",
    "    return(resp)\n",
    "\n",
    "#Throws an unknown error: \"{'Response': 'False', 'Error':'No API key provided.'}\"\n",
    "# Resolved the error stated above.\n",
    "\n",
    "#write a function called get_movie_rating. It takes an OMDB dictionary result for one movie and \n",
    "#extracts the Rotten Tomatoes rating as an integer.\n",
    "#For example, if given the OMDB dictionary for “Black Panther”, it would return 97. \n",
    "#If there is no Rotten Tomatoes rating, return 0.\n",
    "\n",
    "\n",
    "def get_movie_rating(data):\n",
    "    for a in data:\n",
    "        if a == 'Ratings':\n",
    "            for b in data[a]:\n",
    "                for c in b:\n",
    "                    if 'Rotten Tomatoes' in b[c]:\n",
    "                        return (int(b['Value'][:2]))\n",
    "    return 0               \n",
    "\n",
    "\n",
    "\n",
    "#Define a function get_sorted_recommendations. It takes a list of movie titles as an input. \n",
    "#It returns a sorted list of related movie titles as output, up to five related movies for each input movie title. \n",
    "#The movies should be sorted in descending order by their Rotten Tomatoes rating, as returned by the get_movie_rating function. \n",
    "#Break ties in reverse alphabetic order, so that ‘Yahşi Batı’ comes before ‘Eyyvah Eyvah’.\n",
    "\n",
    "\n",
    "\n",
    "def get_sorted_recommendations(lst):\n",
    "    lst = extract_movie_titles(lst)\n",
    "    newdict = {}\n",
    "    relatedmovies = get_related_titles(lst)\n",
    "    for mov in relatedmovies:\n",
    "        rating = (get_movie_rating(get_movie_data(mov)))\n",
    "        newdict[mov] = rating\n",
    "    newlist = sorted(newdict,reverse = True, key = lambda a:newdict[a])    \n",
    "    newlist = newlist[:-2]\n",
    "    new = newlist[-1]\n",
    "    newlist[-1] = newlist[-2]\n",
    "    newlist[-2] = new\n",
    "    return newlist\n",
    "                    \n",
    "# some invocations that we use in the automated tests; uncomment these if you are getting errors and want better error messages\n",
    "\n",
    "\n",
    "\n",
    "\n"
   ]
  },
  {
   "cell_type": "code",
   "execution_count": 2,
   "id": "e5e10cb6",
   "metadata": {},
   "outputs": [
    {
     "data": {
      "text/plain": [
       "['Black Panther',\n",
       " 'Indiana Jones And The Raiders Of The Lost Ark',\n",
       " 'Creed',\n",
       " 'Fruitvale Station',\n",
       " 'Thor: Ragnarok',\n",
       " 'Jurassic Park',\n",
       " 'Spider-Man: Homecoming',\n",
       " 'Spider-Man: Far From Home',\n",
       " 'The Post',\n",
       " 'Ant-Man And The Wasp',\n",
       " 'Avengers: Infinity War',\n",
       " 'Guardians Of The Galaxy Vol. 2',\n",
       " 'Deadpool 2',\n",
       " 'Creed II',\n",
       " 'Ant-Man',\n",
       " 'Indiana Jones And The Kingdom Of The Crystal Skull',\n",
       " 'Ready Player One',\n",
       " 'Fast & Furious Presents: Hobbs & Shaw',\n",
       " 'Southpaw',\n",
       " 'The Lost World: Jurassic Park',\n",
       " 'Concussion']"
      ]
     },
     "execution_count": 2,
     "metadata": {},
     "output_type": "execute_result"
    }
   ],
   "source": [
    "get_sorted_recommendations('Black Panther')\n"
   ]
  },
  {
   "cell_type": "code",
   "execution_count": 3,
   "id": "992b1425",
   "metadata": {},
   "outputs": [
    {
     "data": {
      "text/plain": [
       "{'Title': 'Black Panther',\n",
       " 'Year': '2018',\n",
       " 'Rated': 'PG-13',\n",
       " 'Released': '16 Feb 2018',\n",
       " 'Runtime': '134 min',\n",
       " 'Genre': 'Action, Adventure, Sci-Fi',\n",
       " 'Director': 'Ryan Coogler',\n",
       " 'Writer': 'Ryan Coogler, Joe Robert Cole, Stan Lee',\n",
       " 'Actors': \"Chadwick Boseman, Michael B. Jordan, Lupita Nyong'o\",\n",
       " 'Plot': \"T'Challa, heir to the hidden but advanced kingdom of Wakanda, must step forward to lead his people into a new future and must confront a challenger from his country's past.\",\n",
       " 'Language': 'English, Swahili, Nama, Xhosa, Korean',\n",
       " 'Country': 'United States',\n",
       " 'Awards': 'Won 3 Oscars. 116 wins & 281 nominations total',\n",
       " 'Poster': 'https://m.media-amazon.com/images/M/MV5BMTg1MTY2MjYzNV5BMl5BanBnXkFtZTgwMTc4NTMwNDI@._V1_SX300.jpg',\n",
       " 'Ratings': [{'Source': 'Internet Movie Database', 'Value': '7.3/10'},\n",
       "  {'Source': 'Rotten Tomatoes', 'Value': '96%'},\n",
       "  {'Source': 'Metacritic', 'Value': '88/100'}],\n",
       " 'Metascore': '88',\n",
       " 'imdbRating': '7.3',\n",
       " 'imdbVotes': '743,117',\n",
       " 'imdbID': 'tt1825683',\n",
       " 'Type': 'movie',\n",
       " 'DVD': '02 May 2018',\n",
       " 'BoxOffice': '$700,426,566',\n",
       " 'Production': 'N/A',\n",
       " 'Website': 'N/A',\n",
       " 'Response': 'True'}"
      ]
     },
     "execution_count": 3,
     "metadata": {},
     "output_type": "execute_result"
    }
   ],
   "source": [
    "\n",
    "get_movie_data('Black Panther')"
   ]
  },
  {
   "cell_type": "code",
   "execution_count": null,
   "id": "31144e60",
   "metadata": {},
   "outputs": [],
   "source": []
  }
 ],
 "metadata": {
  "kernelspec": {
   "display_name": "Python 3 (ipykernel)",
   "language": "python",
   "name": "python3"
  },
  "language_info": {
   "codemirror_mode": {
    "name": "ipython",
    "version": 3
   },
   "file_extension": ".py",
   "mimetype": "text/x-python",
   "name": "python",
   "nbconvert_exporter": "python",
   "pygments_lexer": "ipython3",
   "version": "3.9.12"
  }
 },
 "nbformat": 4,
 "nbformat_minor": 5
}
